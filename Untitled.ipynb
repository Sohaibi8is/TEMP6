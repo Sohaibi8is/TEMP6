{
 "cells": [
  {
   "cell_type": "code",
   "execution_count": 1,
   "id": "b114c2b2",
   "metadata": {},
   "outputs": [],
   "source": [
    "from openpyxl import Workbook"
   ]
  },
  {
   "cell_type": "code",
   "execution_count": 2,
   "id": "6058cc15",
   "metadata": {},
   "outputs": [],
   "source": [
    "# Load Excel file\n",
    "workbook = Workbook(\"statement.xlsx\")\n",
    "\n",
    "# Convert Excel to PDF\n",
    "workbook.save(\"xlsx-to-pdf.pdf\")"
   ]
  },
  {
   "cell_type": "code",
   "execution_count": 7,
   "id": "189c6d80",
   "metadata": {},
   "outputs": [
    {
     "name": "stdout",
     "output_type": "stream",
     "text": [
      "<COMObject Open>\n"
     ]
    }
   ],
   "source": [
    "# Import Module\n",
    "from win32com import client\n",
    "  \n",
    "# Open Microsoft Excel\n",
    "excel = client.Dispatch(\"Excel.Application\")\n",
    "  \n",
    "sheets = excel.Workbooks.Open('D:/excelToPdf/trail2.xlsx')\n",
    "print(sheets)\n",
    "work_sheets = sheets.Worksheets[0]\n",
    "work_sheets.ExportAsFixedFormat(0, 'D:/excelToPdf/trail123.pdf')"
   ]
  },
  {
   "cell_type": "code",
   "execution_count": null,
   "id": "b06cc10f",
   "metadata": {},
   "outputs": [],
   "source": []
  }
 ],
 "metadata": {
  "kernelspec": {
   "display_name": "Python 3 (ipykernel)",
   "language": "python",
   "name": "python3"
  },
  "language_info": {
   "codemirror_mode": {
    "name": "ipython",
    "version": 3
   },
   "file_extension": ".py",
   "mimetype": "text/x-python",
   "name": "python",
   "nbconvert_exporter": "python",
   "pygments_lexer": "ipython3",
   "version": "3.9.5"
  }
 },
 "nbformat": 4,
 "nbformat_minor": 5
}
